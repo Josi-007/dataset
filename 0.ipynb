{
 "cells": [
  {
   "cell_type": "code",
   "execution_count": null,
   "id": "7d6cccc2-905d-41a7-bf5f-ce0614b456c4",
   "metadata": {},
   "outputs": [],
   "source": [
    "pip install pydot\n",
    "pip install numpy\n",
    "pip install pandas\n",
    "pip install matplotlib\n",
    "pip install scikit-learn\n",
    "pip install opencv-python\n",
    "pip install keras\n",
    "pip install seaborn\n",
    "pip install scikit-image\n",
    "pip install gym\n",
    "pip install tensorflow"
   ]
  }
 ],
 "metadata": {
  "kernelspec": {
   "display_name": "Python 3 (ipykernel)",
   "language": "python",
   "name": "python3"
  },
  "language_info": {
   "codemirror_mode": {
    "name": "ipython",
    "version": 3
   },
   "file_extension": ".py",
   "mimetype": "text/x-python",
   "name": "python",
   "nbconvert_exporter": "python",
   "pygments_lexer": "ipython3",
   "version": "3.11.7"
  }
 },
 "nbformat": 4,
 "nbformat_minor": 5
}
